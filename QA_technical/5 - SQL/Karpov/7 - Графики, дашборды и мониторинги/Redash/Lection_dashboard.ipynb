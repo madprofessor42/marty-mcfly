{
 "cells": [
  {
   "cell_type": "markdown",
   "id": "2318a9f6",
   "metadata": {},
   "source": [
    "```sql\n",
    "SELECT Date,\n",
    "        uniqExact(DeviceID) AS installs        \n",
    "FROM default.installs\n",
    "GROUP BY CAST(InstallationDate as Date) AS Date\n",
    "ORDER BY Date ASC\n",
    "```\n",
    "\n",
    "![](https://i.ibb.co/q9Tn3Kx/dash-1.png)\n",
    "\n",
    "\n",
    "```sql\n",
    "SELECT Date,\n",
    "       type,     \n",
    "       uniqExact(DeviceID) AS installs        \n",
    "FROM default.installs\n",
    "GROUP BY cast(InstallationDate AS Date) AS Date,\n",
    "IF(InstallCost = 0, 'free', 'payed') AS type\n",
    "ORDER BY Date ASC, \n",
    "         type ASC\n",
    "```\n",
    "\n",
    "![](https://i.ibb.co/3CgZz7V/dash-2.png)\n",
    "\n",
    "\n",
    "```sql\n",
    "SELECT Date,\n",
    "        AVG(InstallCost) AS avg_cost        \n",
    "FROM default.installs\n",
    "WHERE InstallCost > 0\n",
    "GROUP BY CAST(InstallationDate AS Date) AS Date\n",
    "ORDER BY Date ASC\n",
    "```\n",
    "\n",
    "![](https://i.ibb.co/W09tBB4/dash-3.png)\n",
    "\n",
    "\n",
    "**Final dashboard:**\n",
    "\n",
    "![](https://i.ibb.co/ng7G8X7/dash-final.png)"
   ]
  }
 ],
 "metadata": {
  "kernelspec": {
   "display_name": "Python 3 (ipykernel)",
   "language": "python",
   "name": "python3"
  },
  "language_info": {
   "codemirror_mode": {
    "name": "ipython",
    "version": 3
   },
   "file_extension": ".py",
   "mimetype": "text/x-python",
   "name": "python",
   "nbconvert_exporter": "python",
   "pygments_lexer": "ipython3",
   "version": "3.9.12"
  }
 },
 "nbformat": 4,
 "nbformat_minor": 5
}
